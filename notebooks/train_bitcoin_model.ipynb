{
  "cells": [
    {
      "cell_type": "markdown",
      "metadata": {
        "id": "view-in-github",
        "colab_type": "text"
      },
      "source": [
        "<a href=\"https://colab.research.google.com/github/rizkisyaf/zdml/blob/main/notebooks/train_bitcoin_model.ipynb\" target=\"_parent\"><img src=\"https://colab.research.google.com/assets/colab-badge.svg\" alt=\"Open In Colab\"/></a>"
      ]
    },
    {
      "cell_type": "markdown",
      "id": "2452cbfb",
      "metadata": {
        "id": "2452cbfb"
      },
      "source": [
        "# Bitcoin Futures Prediction Model Training\n",
        "\n",
        "This notebook trains the LSTM model for Bitcoin futures prediction using Google Colab's GPU and pushes it to Hugging Face Hub.\n",
        "\n",
        "## Overview\n",
        "1. Setup Environment\n",
        "2. Load and Preprocess Data\n",
        "3. Train Model\n",
        "4. Push to Hugging Face Hub\n",
        "\n",
        "Make sure you have:\n",
        "- Your Hugging Face token ready\n",
        "- The order book data file (`futures_orderbook_data.csv`)\n",
        "- Access to your GitHub repository"
      ]
    },
    {
      "cell_type": "code",
      "execution_count": null,
      "id": "2beaf6bd",
      "metadata": {
        "id": "2beaf6bd"
      },
      "outputs": [],
      "source": [
        "# Install required packages\n",
        "!pip install transformers huggingface_hub gradio torch pandas numpy scikit-learn matplotlib seaborn tqdm pywavelets tensorboard pytest jupyter\n",
        "\n",
        "# Clone your repository (replace with your repo URL)\n",
        "!git clone https://github.com/your-username/DataResearch.git\n",
        "%cd DataResearch\n",
        "\n",
        "# Import required libraries\n",
        "import torch\n",
        "import pandas as pd\n",
        "import numpy as np\n",
        "from huggingface_hub import login\n",
        "import logging\n",
        "\n",
        "# Configure logging\n",
        "logging.basicConfig(\n",
        "    level=logging.INFO,\n",
        "    format='%(asctime)s - %(name)s - %(levelname)s - %(message)s'\n",
        ")\n",
        "logger = logging.getLogger(__name__)\n",
        "\n",
        "# Check GPU availability\n",
        "print(f\"GPU available: {torch.cuda.is_available()}\")\n",
        "if torch.cuda.is_available():\n",
        "    print(f\"GPU device: {torch.cuda.get_device_name(0)}\")"
      ]
    },
    {
      "cell_type": "markdown",
      "id": "33d78251",
      "metadata": {
        "id": "33d78251"
      },
      "source": [
        "## Data Loading and Preprocessing\n",
        "\n",
        "Upload your order book data and prepare it for training."
      ]
    },
    {
      "cell_type": "code",
      "execution_count": null,
      "id": "841d5eea",
      "metadata": {
        "id": "841d5eea"
      },
      "outputs": [],
      "source": [
        "# Upload data file\n",
        "from google.colab import files\n",
        "print(\"Please upload futures_orderbook_data.csv\")\n",
        "uploaded = files.upload()\n",
        "\n",
        "# Save the uploaded file\n",
        "!mv futures_orderbook_data.csv data/futures_orderbook_data.csv\n",
        "\n",
        "# Load and preprocess data\n",
        "from src.data.preprocessing import load_orderbook_data, preprocess_data, prepare_training_data, save_processed_data\n",
        "\n",
        "# Load data\n",
        "df = load_orderbook_data('data/futures_orderbook_data.csv')\n",
        "print(f\"Loaded {len(df)} rows of order book data\")\n",
        "\n",
        "# Preprocess data\n",
        "features_df = preprocess_data(df, window_size=20)\n",
        "print(f\"Preprocessed data shape: {features_df.shape}\")\n",
        "\n",
        "# Display first few rows of key features\n",
        "key_features = ['mid_price', 'weighted_mid_price', 'spread', 'imbalance']\n",
        "print(\"\n",
        "First few rows of key features:\")\n",
        "print(features_df[key_features].head())"
      ]
    },
    {
      "cell_type": "markdown",
      "id": "f8eaa892",
      "metadata": {
        "id": "f8eaa892"
      },
      "source": [
        "## Data Preparation\n",
        "\n",
        "Prepare sequences for LSTM training and split into train/val/test sets."
      ]
    },
    {
      "cell_type": "code",
      "execution_count": null,
      "id": "10d5f2ca",
      "metadata": {
        "id": "10d5f2ca"
      },
      "outputs": [],
      "source": [
        "# Prepare training data\n",
        "data = prepare_training_data(\n",
        "    features_df,\n",
        "    sequence_length=100,\n",
        "    prediction_horizon=1,\n",
        "    test_size=0.2,\n",
        "    val_size=0.1\n",
        ")\n",
        "\n",
        "# Save processed data\n",
        "save_processed_data(data, 'processed_data.pkl')\n",
        "\n",
        "print(\"Data shapes:\")\n",
        "print(f\"X_train: {data['X_train'].shape}\")\n",
        "print(f\"y_train: {data['y_train'].shape}\")\n",
        "print(f\"X_val: {data['X_val'].shape}\")\n",
        "print(f\"y_val: {data['y_val'].shape}\")\n",
        "print(f\"X_test: {data['X_test'].shape}\")\n",
        "print(f\"y_test: {data['y_test'].shape}\")"
      ]
    },
    {
      "cell_type": "markdown",
      "id": "14281fb2",
      "metadata": {
        "id": "14281fb2"
      },
      "source": [
        "## Model Training\n",
        "\n",
        "Train the LSTM model using GPU acceleration."
      ]
    },
    {
      "cell_type": "code",
      "execution_count": null,
      "id": "b5b9d827",
      "metadata": {
        "id": "b5b9d827"
      },
      "outputs": [],
      "source": [
        "# Login to Hugging Face\n",
        "from huggingface_hub import login\n",
        "print(\"Please enter your Hugging Face token when prompted\")\n",
        "login()"
      ]
    },
    {
      "cell_type": "code",
      "execution_count": null,
      "id": "8ea5c5dc",
      "metadata": {
        "id": "8ea5c5dc"
      },
      "outputs": [],
      "source": [
        "# Train and push model\n",
        "from train_on_colab import train_and_push\n",
        "\n",
        "# Start training\n",
        "results = train_and_push()\n",
        "\n",
        "print(\"\n",
        "Training completed!\")\n",
        "print(f\"Model saved to: {results['model_path']}\")\n",
        "print(\"\n",
        "Test metrics:\")\n",
        "for k, v in results['test_metrics'].items():\n",
        "    print(f\"{k}: {v:.4f}\")"
      ]
    }
  ],
  "metadata": {
    "colab": {
      "provenance": [],
      "include_colab_link": true
    },
    "language_info": {
      "name": "python"
    },
    "kernelspec": {
      "name": "python3",
      "display_name": "Python 3"
    }
  },
  "nbformat": 4,
  "nbformat_minor": 5
}